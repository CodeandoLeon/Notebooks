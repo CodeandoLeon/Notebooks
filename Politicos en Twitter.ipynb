{
 "cells": [
  {
   "cell_type": "markdown",
   "metadata": {},
   "source": [
    "# Políticos en Twitter\n",
    "## *Alberto Barradas*\n",
    "[@abcsds](https://twitter.com/abcsds)\n",
    "\n",
    "Como sabrán, twitter es un método de interacción entre individuos, instituciones, y figuras públicas. Es común para una figura pública tener una cuenta de twitter. En esta ocasión obtendremos los datos de un político de interés con ayuda de twitter.\n",
    "\n",
    "Por ahora obtendremos de manera manual el usuario de tweeter.\n",
    "\n",
    "Para ésto haremos uso de [Representantes Patito](http://representantes.pati.to/), sitio que nos ayuda a encontrar nuestros representantes políticos de acuerdo a nuestra dirección de residencia. \n",
    "\n",
    "Despues de colocar el pin en posisión y dar click a `Aquí vivo`. obtendremos una lista de lo representantes locales.\n",
    "\n",
    "Al selecionar a alguno de ellos obtendremos más información de ellos, incluyendo un link a su cuenta de tweeter. Por ahora tomemos el usuario de forma manual.\n",
    "\n",
    "En mi caso, he seleccionado a Miguel Ángel Chico H. **`@MiguelChicoOfl`**\n",
    "\n",
    "Usaremos la librería [Tweepy](http://docs.tweepy.org/) para acceder a la información deseada."
   ]
  },
  {
   "cell_type": "code",
   "execution_count": 1,
   "metadata": {
    "collapsed": false
   },
   "outputs": [],
   "source": [
    "import tweepy"
   ]
  },
  {
   "cell_type": "markdown",
   "metadata": {},
   "source": [
    "Para acceder a twiter es necesario tener llaves de la api; se consiguen [aquí](https://apps.twitter.com). \n",
    "Para importarlas de la siguiente forma crea un archivo llamado `myKeys.py`."
   ]
  },
  {
   "cell_type": "code",
   "execution_count": 2,
   "metadata": {
    "collapsed": true
   },
   "outputs": [],
   "source": [
    "import myKeys\n",
    "\n",
    "api_key = myKeys.api_key\n",
    "api_secret = myKeys.api_secret\n",
    "access_token_key = myKeys.access_token_key\n",
    "access_token_secret = myKeys.access_token_secret"
   ]
  },
  {
   "cell_type": "markdown",
   "metadata": {},
   "source": [
    "Ahora accedemos con las credenciales a la API"
   ]
  },
  {
   "cell_type": "code",
   "execution_count": 3,
   "metadata": {
    "collapsed": false
   },
   "outputs": [],
   "source": [
    "auth = tweepy.OAuthHandler(api_key, api_secret)\n",
    "auth.set_access_token(access_token_key, access_token_secret)\n",
    "api = tweepy.API(auth)"
   ]
  },
  {
   "cell_type": "markdown",
   "metadata": {},
   "source": [
    "Por ultimo solo mandamos llamar la función `user_timeline()` con el usuario que obtuvimos antes. "
   ]
  },
  {
   "cell_type": "code",
   "execution_count": 4,
   "metadata": {
    "collapsed": false
   },
   "outputs": [],
   "source": [
    "# user = api.get_user()\n",
    "tweets = api.user_timeline(screen_name=\"MiguelChicoOfl\", count=20000)"
   ]
  },
  {
   "cell_type": "markdown",
   "metadata": {},
   "source": [
    "Listo! los tweets ya están ahí. Ahora solo hay que imprimirlos."
   ]
  },
  {
   "cell_type": "code",
   "execution_count": 5,
   "metadata": {
    "collapsed": false
   },
   "outputs": [
    {
     "name": "stdout",
     "output_type": "stream",
     "text": [
      "RT @Jen_m6: Imagen de hoy por la madrugada en el Parque Hidalgo @BajioTv https://t.co/WparOLCAcX\n",
      "RT @PresidenciaMX: Así se vivió la conmemoración del 210º Aniversario del Natalicio de Don #BenitoJuárez. https://t.co/P8iA5A8TYS https://t…\n",
      "RT @JMRJaral: Una gota de agua es poderosa.Una gota de agua es más necesaria que nunca. @MiguelChicoOfl \n",
      "#DiaMundialAgua https://t.co/k3DVO…\n",
      "#GuanajuatoesPrimero!, comparto vídeo de #Guanajuato\n",
      "#UniversidaddeGuanajuato\n",
      "@ig_guanajuato\n",
      "Vídeo:@c13studio https://t.co/bmsABDZTil\n",
      "Efeméride:22/03/1776,muere en Sn Miguel de Allende Luis Felipe Neri de Alfaro,fue fundador Santuario de Atotonilco https://t.co/6PgEhnJdXZ\n",
      "RT @JMRJaral: Benito Pablo Juárez García  el «Benemérito de las Américas» https://t.co/wrqDIiCA0c\n",
      "RT @PeriodistaAle: La magia de mí pueblo @Yuriria , laguna, bosque, gente que sabe su historia. #ViveloParaCreerlo. @QuiqueRivera https://t…\n",
      "RT @clubleonfc: Tras cumplir 11 fechas en la @LIGABancomerMX, esta es nuestra ubicación en la tabla general del #C16. #SiempreFiera https:/…\n",
      "#GuanajuatoesPrimero!, comparto fotografía de #Acámbaro #JardinPrincipal\n",
      "Foto:@centrohistorico_acambaro https://t.co/uXDzA4wnD0\n",
      "Efeméride:21/03/1919,nace  Pedro Chávez Calderón en Stgo Maravatío, recibió Premio Universidad Nacional(UNAM)en 1991 https://t.co/mzE07dm2M1\n",
      "RT @CanalCongreso: El @CanalCongreso cumple 18 años trabajando para nuestros televidentes y presentando todo el acontecer legislativo https…\n",
      "RT @carce55: @LupitaMpio @PeriodistaAle @MiguelChicoOfl @miligasca @maricelaluna @fisicogarcia \n",
      "AEROPUERTO SIN CONECTIVIDAD\n",
      "https://t.co/cy…\n",
      "#GuanajuatoesPrimero!, comparto fotografía de #Salvatierra\n",
      "@pasionxmexico  \n",
      "Foto:@bars.one https://t.co/w3OLTopKax\n",
      "Efeméride:20/03/1755,se sublevan hab.de Sn Francisco del Rincón,por estancia en su territorio d criollos y españoles https://t.co/l0BQ1iCdEI\n",
      "RT @HNdealba: @BELLATRIX_RAZO @BetyManrique @MiguelChicoOfl @Gerardo_Sanchz_ @AlvarCdeV @carloszamarr @ENTORNO_INFORMA https://t.co/yW7Goyf…\n",
      "RT @ARCEMAGLEZ: En el tradicional Viernes de Dolores en Guanajuato Capital #DiaDeLasFlores https://t.co/LZAxoO5q2c\n",
      "RT @ARCEMAGLEZ: Presentes en la entrega del premio \"Guanajuatense Distinguido\".  #Guanajuato  #DiaDeLasFlores. https://t.co/0Dwx7LCYUJ\n",
      "#GuanajuatoesPrimero!, comparto fotografía de #Guanajuato #DíadelasFlores Foto:@gtomeconquista https://t.co/j9WYnW7PPQ\n",
      "Efeméride:19/03/1900,en Parroquia de Gto,fundan Congregación de Ntra Sra de Gto,a iniciativa de Isaac Ramírez https://t.co/d3rXydreEo\n",
      "He publicado 54 fotos en Facebook en el álbum \"Guanajuato,Gto; a 18 de Marzo del año 2016.\". https://t.co/nltwJvqAEt\n",
      "He publicado 54 fotos en Facebook en el álbum \"Guanajuato,Gto; a 18 de Marzo del año 2016.\". https://t.co/LcxEiMuQC3\n",
      "Con 2 profesionales de la comunicación en Guanajuato,@CarlosOlver \n",
      "y @periodistafrg https://t.co/k19RuvZuB1\n",
      "RT @fitopons3: Puro joven... La cámara no miente! https://t.co/uL1bXwKK7x\n",
      "RT @MoonandMoon: Conmina @MiguelChicoOfl a @miguelmarquezm a instaurar el mando único en todo el estado. https://t.co/RGMVb51i5Y\n",
      "RT @edgarcastro37: \"Guanajuatense Distinguido\" es el máximo reconocimiento que otorga el Honorable Ayuntamiento de @GuanajuatoMejor https:/…\n",
      "RT @KARAM1963: @SoyBlancaAlcala @MiguelChicoOfl Feliz cumpleaños Miguel, te mando un abrazo!\n",
      "Presentes con Mausi y la Reina de la ciudad Wendy I https://t.co/MNuWbX3C4Y\n",
      "La Juventus presente en el \"Viernes de Dolores\" https://t.co/pzMNwOev4F\n",
      "En el tradicional desayuno del \"Viernes de Dolores\" en Guanajuato Capital https://t.co/NeMidZaX6X\n",
      "Estuvimos presentes en el Ayuntamiento de Guanajuato ,en \"Guanajuatense Distinguido\" https://t.co/EfNaS622OZ\n",
      "También saludamos al Ex-Gobernador @JCRomeroHicks y su esposa Fafy https://t.co/fgGnke3J9Z\n",
      "Un gusto saludar al Gobernador\n",
      "@miguelmarquezm y su esposa Maru https://t.co/cnoHW9sXKQ\n",
      "Saludamos en el Viernes de Dolores,al Ex-Gobernador Luis H Ducoing y @farroyov https://t.co/gShugzAo3w\n",
      "RT @regidoresgto: #AlMomento Sesión #2 Solemne  Del H. Ayuntamiento de @GuanajuatoMejor @edgarcastro37 https://t.co/MqO4NX4wdr\n",
      "RT @PeriodistaBorre: El senador @MiguelChicoOfl y @farroyov se saludan y dialogan en el Día de las Flores, Guanajuato capital. https://t.co…\n",
      "RT @PeriodistaBorre: Y por acá @miguelmarquezm y @MiguelChicoOfl también se saludan durante Día de las Flores, Guanajuato capital. https://…\n",
      "RT @PeriodistaBorre: Personalidades priístas asisten al festejo del Viernes de Dolores, Día de las Flores en Guanajuato capital. https://t.…\n",
      "#GuanajuatoesPrimero!, comparto fotografía de #Xichú\n",
      "@xichugtomx #sierragorda Foto:@viviana_martinezr https://t.co/h8cD2K3R96\n",
      "Efeméride:18/03/1829,por Decreto de Congreso del Edo, fueron expulsados del Estado de Gto 226 residentes Españoles https://t.co/VH75Ciwhsy\n",
      "RT @marianagc: @MiguelChicoOfl Un abrazo, cumpleañero. Espero que hayas estado muy consentido. 🎂🎊🍰\n",
      "RT @MarceLopez_MX: Feliz cumpleaños a un gran Senador y gran embajador de Guanajuato @MiguelChicoOfl. mis mejores deseos!\n",
      "RT @JMRpenjamo: JMR PÉNJAMO, FELICITA AL SENADOR @MiguelChicoOfl POR SU CUMPLEAÑOS. https://t.co/4frKdUqHV3\n",
      "RT @PeriodistaAle: #QueNoSeTePase mañana en @GuanajuatoMex tradiciones siguen en grande ¡¡Ven a @GuanajuatoMejor y #ViveloParaCreerlo https…\n",
      "RT @cancundf: @MiguelChicoOfl lo mejor en este ciclo de vida, muy feliz cumpleaños!\n",
      "RT @nilsonmarcovich: @MiguelChicoOfl Muchísimas felicidades Senador reciba un fuerte abrazo.\n",
      "RT @EPN: Mi reconocimiento a las autoridades de la #CDMX y del #EDOMEX. Seguiremos monitoreando calidad del aire, para cuidar salud de la p…\n",
      "RT @irisbanuelos: @MiguelChicoOfl feliz cumpleaños! Un abrazo!\n",
      "RT @RJXMex_GTO: Senador @MiguelChicoOfl #LaRED capítulo GTO le deseamos un muy Feliz Cumpleaños, le mandamos un fuerte abrazo, ¡Saludos!\n",
      "RT @GaroRamonet: Muchas felicidades por motivo de su cumpleaños Senador @MiguelChicoOfl disfrute este día con los suyos. Fue un gusto conoc…\n",
      "RT @Angel_OsorioP: Senador @MiguelChicoOfl ¡Feliz Cumpleaños! Que se la pase sensacional en compañía de sus seres queridos, le mando un fue…\n",
      "RT @CecyGlzMtz: @MiguelChicoOfl senador muchas felicidades hoy en su cumpleaños! Le mando un fuerte abrazo! 🎊\n",
      "RT @LiliaMerodio: Muchas felicidades a mi compañero @MiguelChicoOfl hoy en su cumpleaños. ¡Te deseo lo mejor hoy y siempre!\n",
      "RT @SenSantana: ¡Muchas felicidades en su cumpleaños al senador de la República de México, @MiguelChicoOfl! Felicitaciones desde República …\n",
      "RT @arturoarmenta9: Muchas felicidades por su cumpleaños Sen. @MiguelChicoOfl , que Dios le de muchos años más de vida. Reciba un abrazo de…\n",
      "RT @LulaDavila_: Un abrazo con afecto estimado senador @MiguelChicoOfl que sean muchos años más https://t.co/XzGSCHu0n5\n",
      "RT @PepePedroza: Feliz cumpleaños Senador @MiguelChicoOfl, te mando un fuerte abrazo.\n",
      "RT @LupitaFerrer11: Productiva reunión  con Pdte. Mpal.  Acambaro Lic. Gerardo J. Alcántar Saucedo @MiguelChicoOfl #GuanajuatoesPrimero htt…\n",
      "RT @elmalauraaa: mi estimado amigo Senador @MiguelChicoOfl te mando un gran abrazo con motivo de tu cumpleaños!! que sigas festejando\n",
      "RT @jairm66: Muy estimado senador @MiguelChicoOfl le mando un fuerte abrazo acompañado de mis mejores deseos con motivo de su cumpleaños. 🎂🎂\n",
      "Agradezco a todos las muestras de amistad con motivo de mi cumpleaños, nos vemos pronto! https://t.co/gPJMppqM7C\n",
      "Gracias a mi equipo de trabajo del Senado por festejarme con motivo de mi cumpleaños. #EquipoMACH https://t.co/rv6fLDtJTg\n",
      "Votamos, por cédula, para la elección de Magistrados del Tribunal Electoral del Poder Judicial de la Federación. https://t.co/kZ5P4xvPmx\n",
      "RT @ItzelRiosColima: @MiguelChicoOfl Patricio Martínez Felicidades por otra vuelta al sol Este es un motivo para renovar esfuerzos y seguir…\n",
      "RT @NellyNunez_: @MiguelChicoOfl Mi querido Senador muchas Felicidades en su cumpleaños!!! Mis mejores deseos para usted. Un fuerte abrazo.\n",
      "RT @sarabazan7: Felicidades a ambos Senadores https://t.co/H4Vfz9GoxE\n",
      "RT @CJamesBarousse: @MiguelChicoOfl Senador le mando un fuerte abrazo con motivo de su cumpleaños!\n",
      "RT @senadomexicano: Aprueba Comisión de Reforma del Estado líneas de acción para la LXIII Legislatura. https://t.co/47iJdi2zao https://t.co…\n",
      "RT @Lupita_Mondrag: @MiguelChicoOfl Felicidades amigo te mando un abrazo y lo mejor en este día Feliz Cumpleaños.\n",
      "RT @senadomexicano: #Fotos de la reunión de la Comisión de Reforma del Estado. https://t.co/qjHzzOa8V7 https://t.co/CXTCvz1Pxw\n",
      "RT @JavierFloresFC: Felicidades @MiguelChicoOfl un abrazo,  éxito y salud.\n",
      "Retweeted Georgina Zapata (@geozapatalucero):\n",
      "\n",
      "Feliz cumpleaños estimado Senador @MiguelChicoOfl ¡Reciba un... https://t.co/0u7jFMq3Gf\n",
      "RT @geozapatalucero: Feliz cumpleaños estimado Senador @MiguelChicoOfl ¡Reciba un respetuoso abrazo y mis mejores deseos!\n",
      "RT @JT_Irapuato: Mandamos un abrazo al Senador @MiguelChicoOfl en este día de su Cumpleaños #Guanajuatoesprimero #JMR #IRAPUATO #PRI https:…\n",
      "RT @AngelAlvarezO: Los Compañeros y Amigos de hola!13 TELEVISIÓN le mandan FELICITACIONES Senador @MiguelChicoOfl https://t.co/VMbaIebutX\n",
      "Un honor compartir cumpleaños con el ex Gobernador de Chihuahua, mi compañero Senador @PatricioMtz2012 https://t.co/QlpYTB8ELa\n",
      "RT @valeria_guzman_: Muy feliz cumpleaños @MiguelChicoOfl @CENJP  https://t.co/v5BTQpM471\n",
      "RT @QuiqueCamacho_: Felicidades don @MiguelChicoOfl !!! https://t.co/oL0u4YsLPm\n",
      "RT @Monicacabrero40: Bendiciones Senador @MiguelChicoOfl Feliz Cumpleaños un Abrazo Estimado Amigo!!!\n",
      "RT @dennis_ibarra_: Mi estimado amigo senador @MiguelChicoOfl reciba un fuerte abrazo y mis mejores deseos. https://t.co/YyM3mUXwV3\n",
      "RT @CarmenDorantes_: Felicidades compañero Senador @MiguelChicoOfl con motivo de su cumpleaños ¡Un abrazo!\n",
      "RT @jaime_nito: @MiguelChicoOfl ¡Feliz cumpleaños, bendiciones todos los días de su vida!\n",
      "RT @aroldan_tlx: Se encuentran festejando su cumpleaños mis compañeros senadores @MiguelChicoOfl y Patricio Martínez Garza @SenadoresPRI ¡F…\n",
      "RT @PedroPabloTrev: ¡Feliz cumpleaños @MiguelChicoOfl! Deseo que disfrutes tu día en compañía de tus seres queridos. Un abrazo. https://t.c…\n",
      "En la \"Toma de Compromiso\" de la @Coparmex en #CDMX. https://t.co/gsp0LJpBlQ\n",
      "RT @CarolinaMonroy_: Estimado senador @MiguelChicoOfl le envío un abrazo y mis mejores deseos de salud y bienestar por su cumpleaños. ¡Much…\n",
      "RT @jhony_6203: Igual q @Azuletcheverry felicito al Senador @MiguelChicoOfl por su cumpleaños q tenga un dia de alegría  https://t.co/lFA4b…\n",
      "RT @javis_pc: @MiguelChicoOfl es para mí un placer felicitarlo por su cumpleaños Senador, mis mejores deseos.\n",
      "RT @LeslieBaeza: @MiguelChicoOfl muchas felicidades estimado senador, que todos los buenos deseos se le multipliquen y que cumpla todos sus…\n",
      "Retweeted Blanca Alcalá Ruiz (@SoyBlancaAlcala):\n",
      "\n",
      "Te envío un abrazo con afecto en tu cumpleaños @MiguelChicoOfl, ¡felicidades!\n",
      "RT @AnaLiliaHerrera: Abrazo en su cumpleaños para mi amigo y compañero senador @MiguelChicoOfl ¡Que sean muchos años más de felicidad, armo…\n",
      "RT @OlaldeEJ: @MiguelChicoOfl Senador, @EspaaJenny y un servidor le deseamos un feliz cumpleaños, muchas bendiciones y más éxitos. https://…\n",
      "RT @SoyBlancaAlcala: Te envío un abrazo con afecto en tu cumpleaños @MiguelChicoOfl, ¡felicidades!\n",
      "RT @MiguelPonceA: Felicito en su cumpleaños a @MiguelChicoOfl gran persona y gran amigo.\n",
      "RT @HildaFloresE: ¡Muchas felicidades por tu cumpleaños amigo Senador @MiguelChicoOfl! ¡Que sean muchos años más llenos de salud y éxitos, …\n",
      "RT @coraamaliacm: Muy feliz cumpleaños Sen @MiguelChicoOfl que hoy y siempre seas muy feliz, recibe mi cálido abrazo! https://t.co/3qrIroDF…\n",
      "RT @LUMAARE: Felicidades amigo @MiguelChicoOfl  que la pases bien. Te mando un abrazo.\n",
      "RT @rrppcancunbj: #MuchasFelicidades al senador por #Guanajuato @MiguelChicoOfl reciba un fuerte abrazo desde #Cancún ¡mucho éxito! https:/…\n",
      "RT @AngelAlvarezO: Senador @MiguelChicoOfl  FELICITACIONES!!! Desde su Casa de Enlace #GuanajuatoEsPrimero https://t.co/WJaw9KP269\n",
      "RT @Azuletcheverry: ¡Amigo @MiguelChicoOfl feliz cumpleaños. Te mando un fuerte abrazo y te deseo un excelente día! https://t.co/xBGGHLzHFg\n",
      "RT @serpegeo: @MiguelChicoOfl Abrazo afectuoso, en este su día, feliz cumpleaños Senador!\n",
      "RT @IAlfajayucan: RT @alvarez_ivonne Muchas Felicidades a mi Amigo Senador @MiguelChicoOfl por su cumplea... https://t.co/k9vr1CmHUy https:…\n",
      "Retweeted Chico (@KingGabo1):\n",
      "\n",
      "@MiguelChicoOfl Apreciable Senador que tenga un excelente cumpleaños y que siga cumpliendo sus metas!\n",
      "RT @KingGabo1: @MiguelChicoOfl Apreciable Senador que tenga un excelente cumpleaños y que siga cumpliendo sus metas!\n",
      "RT @alvarez_ivonne: Muchas Felicidades a mi Amigo Senador @MiguelChicoOfl por su cumpleaños  ¡Mis Mejores Deseos!\n",
      "RT @Andrejasvt: Muchas felicidades Senador @MiguelChicoOfl que la pases muy bien, un abrazo!\n",
      "RT @julymcote: @MiguelChicoOfl Muchas felicidades con bienestar y alegrías, un abrazo!\n",
      "RT @silvia_garza: Feliz cumpleaños Senador @MiguelChicoOfl, mis mejores deseos siempre, recibe un fuerte abrazo, saludos.\n",
      "RT @EGandaraC: Muchas felicidades, querido amigo Senador @MiguelChicoOfl hoy en tu cumpleaños. Que disfrutes mucho este día junto a los tuy…\n",
      "RT @luisandres24: Felicito con afecto al Senador @MiguelChicoOfl con motivo de su cumpleaños! Mis mejores deseos hoy y siempre!\n",
      "RT @sergioacontrera: Senador @MiguelChicoOfl feliz cumpleaños le mando un fuerte abrazo deseándole un gran año.\n",
      "RT @linomagos: @MiguelChicoOfl estimado Senador; mis mejores deseos en tu cumpleaños. Un abrazo con afecto.\n",
      "RT @chemamtzmtz: Felicidades a mis compañeros senadores @MiguelChicoOfl y @PatricioMtz2012 que hoy celebran su cumpleaños.\n",
      "RT @SebastianVqz: Quiero desearle un feliz cumpleaños  senador @MiguelChicoOfl, que vengan muchas cosas buenas este año. Un abrazo.\n",
      "RT @JoseEAlfaro: Feliz cumpleaños amigo @MiguelChicoOfl, que este nuevo año de vida sea pleno, lleno de éxitos y satisfacciones. Un abrazo.\n",
      "RT @Avanzadalibera2: Senador @MiguelChicoOfl, le enviamos un abrazo grande y fuerte en este día de su cumpleaños. Nuestros mejores deseos.\n",
      "RT @Marisa_PRI_MT: Feliz Cumpleaños estimado Senador @MiguelChicoOfl Que sea el inicio de un gran año de éxitos!!\n",
      "RT @TG_Jorge21: Muchas felicidades por su cumpleaños! Le mando un abrazo. @MiguelChicoOfl que Dios lo bendiga, mis mejores deseos hoy y sie…\n",
      "RT @AveIrapuato: Muchas felicidades @MiguelChicoOfl por tu cumpleaños. Esperamos la pases de maravilla.\n",
      "RT @AngelicaAraujo: Feliz cumpleaños Senador @MiguelChicoOfl , mis mejores deseos son para ti. Espero tengas un gran dia. https://t.co/1hdH…\n",
      "Retweeted RJP Guanajuato (@RedJPGuanajuato):\n",
      "\n",
      "Le deseamos un excelente día al Senador @MiguelChicoOfl de parte de... https://t.co/HoteB5gOe6\n",
      "RT @ObservaPRILegis: De parte de todo el equipo que integra @ObservatorioPRI le enviamos una gran felicitación por su cumpleaños senador @M…\n",
      "RT @Ferbribiesca: Estimado Senador @MiguelChicoOfl  le mando un fuerte abrazo y felicitación por su cumpleaños\n",
      "RT @RedJPGuanajuato: Le deseamos un excelente día al Senador @MiguelChicoOfl de parte de los jóvenes cnopistas de Gto! https://t.co/FuWtBtQ…\n",
      "RT @TorresGrac: Senador @MiguelChicoOfl, feliz cumpleaños que sea un año de salud y éxitos. Un abrazo.\n",
      "RT @henrilalo: Reciba una gran felicitación en este día tan especial. Que tenga una vida larga y próspera @MiguelChicoOfl https://t.co/0JVa…\n",
      "RT @fitopons3: @MiguelChicoOfl Recibe mis felicitaciones, por tu cumpleaños, con un abrazo de mi parte. Pásala de maravilla.\n",
      "RT @hutch_alor: Parte del Equipo del Senador @MiguelChicoOfl celebrando su cumpleaños #EquipoMACH https://t.co/yOwhHHzpu7\n",
      "RT @RevistaCierto: Mi estimado senador @MiguelChicoOfl reciba una cordial felicitación con motivo de su cumpleaños. \n",
      "Atte: Luciano Vázquez.\n",
      "Comparto con Ustedes nota del Periódico El Noreste de Guanajuato https://t.co/CBr1bOrsNx https://t.co/3pw9X6PS1J\n",
      "RT @LuisLucioMartin: @MiguelChicoOfl Soy quien preparó el bacalao el dia de toros en Moroleon. Lo esperamos.\n",
      "RT @gerenciaelector: @MiguelChicoOfl Senador muchas felicidades.  Recibe un sincero abrazo. Espero verte pronto.\n",
      "RT @erick332681: Mis sinceras felicitaciones al senador @MiguelChicoOfl que se encuentra de manteles largos, feliz cumpleaños amigo. Que la…\n",
      "RT @JLozanoA: #AvisosParroquiales Hoy es cumpleaños de mis colegas @MiguelChicoOfl y Patricio Martínez Garza @SenadoPRI. Muchas felicidades.\n",
      "RT @SenadorAdolfo: Senador @MiguelChicoOfl reciba mis felicitaciones y mejores deseos, le mando un fuerte abrazo.\n",
      "RT @RodrigoVegaC2: @MiguelChicoOfl Senador, muchísimas felicidades esperó la pasé increible, los mejores deseos. Abrazó desde Jerécuaro. 🎁👏\n",
      "RT @PeriodistaBorre: Anochece en Guanajuato capital. Algunos aspectos del centro histórico. https://t.co/gp8s9M84pz\n",
      "Comparto con Ustedes nota del Periódico El Noreste de Guanajuato https://t.co/CBr1bOrsNx\n",
      "RT @AlexGarcia__: Miguel! Te mando un gran abrazo!! Feliz cumpleaños! @MiguelChicoOfl\n",
      "RT @arthasfield: Felicito con gran respeto al Senador @MiguelChicoOfl  en su cumpleaños. Que sea un día lleno de felicidad, mis mejores des…\n",
      "RT @adriansalc: Cumpleaños de @MiguelChicoOfl. ¡Felicidades! https://t.co/TnyzDpsbAn\n",
      "RT @JMiguelG: @MiguelChicoOfl los mejores deseos Senador, un fuerte abrazo, feliz cumpleaños!!\n",
      "RT @jaguirreJN: ¡Feliz cumpleaños a mi amigo el Senador @MiguelChicoOfl! Mis mejores deseos en este día, muchas felicidades.\n",
      "RT @OctavioAlmada1: Muchas felicidades Amigo Senador @MiguelChicoOfl hoy en tu cumpleaños recibe un abrazo con el mismo afecto.\n",
      "RT @IvonneOP: @MiguelChicoOfl Estimado, ¡feliz cumpleaños! Espero que pases un día inolvidable. Fuerte abrazo.\n",
      "RT @LuisLucioMartin: @MiguelChicoOfl Reciba un cordial abrazo y felicitación por su cumpleaños. Soy Moroleon, reunión Sr Cerna\n",
      "RT @ARCEMAGLEZ: Feliz cumple senador @MiguelChicoOfl que Dios te siga colmando de bendiciones. Abrazo !!\n",
      "RT @RicardoMTZlll: Estimado Senador @MiguelChicoOfl le deseo un feliz cumpleaños, un abrazo desde las tierras textiles de Uriangato.\n",
      "RT @JesusCasillas06: Le mando un fuerte abrazo a mi estimado amigo Sen. @MiguelChicoOfl hoy en su cumpleaños, que disfrute su día. Felicida…\n",
      "RT @lorenzoschavez: Felicito por su cumpleaños a mi amigo el Senador @MiguelChicoOfl sabe que le deseo lo mejor hoy y siempre. Le mando un …\n",
      "RT @farroyov: Felicito a mi querido amigo y correligionario @MiguelChicoOfl por su cumpleaños. Que la pases feliz\n",
      "RT @HNdealba: Estimado  @MiguelChicoOfl te envió fuerte abrazo con motivo de tu cumpleaños Muchas Felicidades https://t.co/bazuRaUBrC\n",
      "RT @TereLMJ: Feliz cumpleaños @MiguelChicoOfl Gracias por el honor de formar parte de su #EquipoMACH Felicidades!! 🎂🎉🎁 https://t.co/BF6DzVa…\n",
      "RT @DANIELAMADORG: Te mando un fuerte abrazo y mis mejores deseos amigo Senador @MiguelChicoOfl, felicidades! https://t.co/y3qs0gZ3hh\n",
      "RT @gbalderas73: Feliz cumpleaños senador @MiguelChicoOfl . un abrazo!!!\n",
      "RT @RogezanN: Felicito muy afectuosamente en su cumpleaños al Senador @MiguelChicoOfl, le mando un fuerte abrazo\n",
      "RT @ESKAUTCrew: Muchas felicidades a @MiguelChicoOfl por su cumpleaños, que tengas mucho ÉXITO https://t.co/eSk9djfCfR\n",
      "RT @saularellano: Estimado @MiguelChicoOfl Comparto mi artículo de hoy; un abrazo! https://t.co/91qlayMUGi\n",
      "RT @RamiroSanchezRo: Senador muchas felicidades le deseo el mejor de los éxitos, y que disfrute su día en compañía de sus seres queridos. h…\n",
      "RT @bob_gto: Muchas felicidades con motivo de su cumpleaños Senador y amigo @MiguelChicoOfl le envío un respetuoso abrazo\n",
      "RT @PP_BAEZ: Un gran abrazo y mis mejores deseos en tu día estimado @MiguelChicoOfl 🎂🎂🎂 Feliz Cumpleaños!!! https://t.co/sQPFgviwpR\n",
      "RT @LicChopper: Mis mas sinceras felicitaciones Senador @MiguelChicoOfl le envió un fuerte abrazo\n",
      "RT @ClauEspinosaF: Hoy es tu cumple @MiguelChicoOfl !! Queremos pastel!!! 🎉 abrazo fuerte!!\n",
      "RT @LupitaFerrer11: Muchas felicidades Senador @MiguelChicoOfl un abrazo, le deseo un excelente día, bendiciones.\n",
      "RT @melverduzco: Feliz cumpleaños senador @MiguelChicoOfl ! Larga vida plena de bendiciones! Saludos desde Chetumal Quintana Roo!\n",
      "RT @AngelAlvarezO: Con mucho Gusto. Le felicito este día de su Cumpleaños. Estimado Senador @MiguelChicoOfl  que los Cumpla Feliz! Dios lo.…\n",
      "RT @betoborge: Mando una felicitación con motivo de su cumpleaños a @MiguelChicoOfl, Senador de la República. #Felicidades @senadomexicano …\n",
      "RT @garciayala: Senador @MiguelChicoOfl a nombre del #CEN del @SntsaMX le envió un afectuoso saludo por motivo de su cumpleaños. Muchas Fel…\n",
      "RT @PArsof: Muchas felicidades Senador @MiguelChicoOfl.Que sea un gran día pero mejor año. Que la vida lo siga llenando de bendiciones,éxit…\n",
      "RT @Emilio_Gamboa_: Senador @MiguelChicoOfl reciba mis mejores deseos y un afectuoso saludo hoy por su cumpleaños.\n",
      "RT @LHdez94: Envió mis mejores deseos a mi amigo Sen. @MiguelChicoOfl por su onomástico. Pase un día excelente.\n",
      "RT @socialmediagmx: Social Media Group envía una felicitación al Lic. @MiguelChicoOfl @CadenaPolitica @CadenaRadioMx https://t.co/BJWKEYgIe8\n",
      "RT @Gustavo_CuevasR: ¡Muchas felicidades al Senador por el estado más bello del país, @MiguelChicoOfl por su cumpleaños! Un abrazo!\n",
      "RT @Aarongasca: Muchas felicidades Senador @MiguelChicoOfl por su onomástico y a seguir cosechando éxitos en base al esfuerzo! Abrazo y los…\n",
      "RT @alettatrejoOfi: Muchas felicidades Senador @MiguelChicoOfl Por su cumpleaños, que sigan los éxitos. Guanajuato es Primero. https://t.co…\n",
      "RT @MariaElenaBT: Querido @MiguelChicoOfl te mando un abrazo,mis mejores deseos hoy y siempre,que Dios te siga colmando de bendiciones. Fel…\n",
      "RT @ChonOrihuela: Feliz cumpleaños amigo Senador @MiguelChicoOfl, te mando un abrazo.\n",
      "#GuanajuatoesPrimero!, comparto fotografía de #Irapuato #centrohistórico\n",
      "@vive_mexico \n",
      "Foto:@BU_ALONSO https://t.co/IpfP1j8Rc2\n",
      "Efeméride:17/03/1888,muere en Dolores Hgo,Antonio Linares,gestionó obras:Jardín,remodelo Alameda y Jardín Ocampo https://t.co/Kp6SKLXErM\n",
      "RT @LupitaFerrer11: Juntos @congregacion_mt  y @MiguelChicoOfl, seguimos beneficiando a Guanajuato, gracias! #celaya #SantaTeresa https://t…\n",
      "RT @Verohabla: Vean video y RT #juevespaisano @demianbichir @voluntadesac @nhablamos @MiguelChicoOfl https://t.co/Fb4K949Aj4\n",
      "RT @luisandres24: Excelente tarde con el Delegado del @PRI_Nacional en el Estado de Guanajuato, @AntonioLugoPV #JuntosSomosMas https://t.co…\n",
      "RT @sarabazan: Preciosa nuestra \"Roma chiquita\" https://t.co/aJdUwcagvu\n",
      "RT @SOLDELBAJIO: Nuestra portada de hoy de EL SOL DEL BAJIO. https://t.co/SOlJiLbKVO... https://t.co/2qNpJSFl3v\n",
      "#GuanajuatoesPrimero!, comparto fotografía de #León @leon_guanajuato\n",
      "#FaroPresadelPalote\n",
      " Foto:@chrismufon https://t.co/44Bn495jPS\n",
      "Efeméride:16/03/1821,en Sn José de Amoles(hoy Cortazar), Luis Cortázar proclama Independencia seguimiento a Iturbide https://t.co/w4rbK9Jw2U\n",
      "@EPN es un Presidente Valiente, https://t.co/jQqJDkpQDB https://t.co/JlW3IXZNR3\n",
      "Estamos muy agradecidos con la Subsecretaria de Transporte de SCT @Yuriria_Mascott, por su apoyo a Celaya https://t.co/qQW9EZHynG\n",
      "RT @Ginsantin1: @MiguelChicoOfl @El_Universal_Mx vamos con todo unidos somos más! Y usted Quintana Roo solo vino a sumar su inteligencia, c…\n",
      "Comparto con Ustedes nota de El Universal @El_Universal_Mx,https://t.co/jQqJDkpQDB https://t.co/LsHeRL9A8M\n",
      "RT @hutch_alor: Comparto una interesante nota del Senador @MiguelChicoOfl en el periódico @eleconomista https://t.co/Qvmb14PWaC\n",
      "RT @HumasMx: Great meeting with Senator @zoerobledo @MiguelChicoOfl and @EGandaraC today at the Mexican Senate. https://t.co/4QCDsXohEw\n",
      "RT @EGandaraC: Muchas gracias a @MiguelChicoOfl y @zoerobledo por su grata compañía con los jóvenes paisanos de @HumasMx https://t.co/Ymo2E…\n",
      "Deseo todo el éxito a nuestro candidato a la gubernatura de Durango, @EVillegasV. https://t.co/c98GyuUfjj\n",
      "Me permito compartir portada de @SOLDELBAJIO https://t.co/Tv9hrQayIJ https://t.co/2akD2qwE3K\n",
      "Me permito compartir nota de El Economista, @eleconomista https://t.co/h8WR4BYLPv https://t.co/OAiFfCEyW4\n",
      "Va el Ferroférico,gran noticia para Celaya! https://t.co/nc7npFoH9J https://t.co/VfwEbIFnbv\n",
      "Me permito compartir portada de @SOLDELBAJIO https://t.co/Tv9hrQayIJ\n",
      "Me permito compartir nota de El Economista, @eleconomista https://t.co/h8WR4BYLPv\n",
      "Va el Ferroférico,gran noticia para Celaya! https://t.co/nc7npFoH9J\n"
     ]
    }
   ],
   "source": [
    "for tweet in tweets:\n",
    "    print tweet.text"
   ]
  },
  {
   "cell_type": "markdown",
   "metadata": {},
   "source": [
    "## Análisis\n",
    "\n",
    "Ahora que tenemos ésta información hagamos un análisis exploratorio. Para ésto usaremos nuestras herramientas comunes, y `Textblob`, para el análisis de texto."
   ]
  },
  {
   "cell_type": "code",
   "execution_count": 6,
   "metadata": {
    "collapsed": true
   },
   "outputs": [],
   "source": [
    "import pandas as pd\n",
    "import numpy as np\n",
    "%matplotlib inline\n",
    "import matplotlib.pyplot as plt"
   ]
  },
  {
   "cell_type": "markdown",
   "metadata": {},
   "source": [
    "Para quien esté familiarizado con la estructura de un tweet las opicones son muchas a partir de éste paso. Para quien no, ver los métodos internos del objeto en python es una forma de empezar:"
   ]
  },
  {
   "cell_type": "code",
   "execution_count": 7,
   "metadata": {
    "collapsed": false,
    "scrolled": true
   },
   "outputs": [
    {
     "name": "stdout",
     "output_type": "stream",
     "text": [
      "__class__\n",
      "__delattr__\n",
      "__dict__\n",
      "__doc__\n",
      "__eq__\n",
      "__format__\n",
      "__getattribute__\n",
      "__getstate__\n",
      "__hash__\n",
      "__init__\n",
      "__module__\n",
      "__ne__\n",
      "__new__\n",
      "__reduce__\n",
      "__reduce_ex__\n",
      "__repr__\n",
      "__setattr__\n",
      "__sizeof__\n",
      "__str__\n",
      "__subclasshook__\n",
      "__weakref__\n",
      "_api\n",
      "_json\n",
      "author\n",
      "contributors\n",
      "coordinates\n",
      "created_at\n",
      "destroy\n",
      "entities\n",
      "extended_entities\n",
      "favorite\n",
      "favorite_count\n",
      "favorited\n",
      "geo\n",
      "id\n",
      "id_str\n",
      "in_reply_to_screen_name\n",
      "in_reply_to_status_id\n",
      "in_reply_to_status_id_str\n",
      "in_reply_to_user_id\n",
      "in_reply_to_user_id_str\n",
      "is_quote_status\n",
      "lang\n",
      "parse\n",
      "parse_list\n",
      "place\n",
      "possibly_sensitive\n",
      "retweet\n",
      "retweet_count\n",
      "retweeted\n",
      "retweeted_status\n",
      "retweets\n",
      "source\n",
      "source_url\n",
      "text\n",
      "truncated\n",
      "user\n"
     ]
    }
   ],
   "source": [
    "for i in dir(tweets[0]):\n",
    "    print i"
   ]
  },
  {
   "cell_type": "markdown",
   "metadata": {},
   "source": [
    "Un dato muy importante para el análisis es la fecha y hora de creación. Ésta nos permite hacer una linea del tiempo."
   ]
  },
  {
   "cell_type": "code",
   "execution_count": 8,
   "metadata": {
    "collapsed": false
   },
   "outputs": [
    {
     "name": "stdout",
     "output_type": "stream",
     "text": [
      "2016-03-22 22:48:04\n",
      "2016-03-22 22:47:30\n",
      "2016-03-22 19:28:59\n",
      "2016-03-22 13:52:12\n",
      "2016-03-22 13:46:30\n",
      "2016-03-21 18:07:46\n",
      "2016-03-21 16:49:31\n",
      "2016-03-21 16:47:11\n",
      "2016-03-21 13:31:39\n",
      "2016-03-21 13:30:32\n",
      "2016-03-21 03:18:41\n",
      "2016-03-20 17:09:52\n",
      "2016-03-20 13:14:22\n",
      "2016-03-20 13:13:53\n",
      "2016-03-19 20:29:55\n",
      "2016-03-19 15:16:53\n",
      "2016-03-19 15:16:23\n",
      "2016-03-19 13:18:09\n",
      "2016-03-19 12:57:35\n",
      "2016-03-19 05:18:15\n",
      "2016-03-19 04:32:06\n",
      "2016-03-19 04:27:39\n",
      "2016-03-19 03:30:00\n",
      "2016-03-19 03:29:49\n",
      "2016-03-18 22:26:11\n",
      "2016-03-18 22:17:24\n",
      "2016-03-18 21:31:34\n",
      "2016-03-18 21:28:45\n",
      "2016-03-18 21:24:41\n",
      "2016-03-18 21:23:24\n",
      "2016-03-18 20:29:06\n",
      "2016-03-18 20:24:43\n",
      "2016-03-18 20:19:25\n",
      "2016-03-18 19:26:40\n",
      "2016-03-18 16:23:37\n",
      "2016-03-18 16:23:18\n",
      "2016-03-18 16:23:03\n",
      "2016-03-18 12:31:51\n",
      "2016-03-18 12:31:20\n",
      "2016-03-18 04:30:14\n",
      "2016-03-18 04:30:09\n",
      "2016-03-18 04:06:11\n",
      "2016-03-18 04:06:06\n",
      "2016-03-18 03:48:53\n",
      "2016-03-18 03:48:38\n",
      "2016-03-18 02:59:27\n",
      "2016-03-18 02:56:32\n",
      "2016-03-18 02:51:25\n",
      "2016-03-18 02:51:18\n",
      "2016-03-18 02:41:35\n",
      "2016-03-18 02:32:47\n",
      "2016-03-18 02:32:36\n",
      "2016-03-18 02:32:22\n",
      "2016-03-18 02:32:12\n",
      "2016-03-18 00:48:24\n",
      "2016-03-18 00:34:29\n",
      "2016-03-18 00:34:16\n",
      "2016-03-18 00:33:04\n",
      "2016-03-18 00:32:42\n",
      "2016-03-18 00:09:31\n",
      "2016-03-17 23:22:19\n",
      "2016-03-17 22:51:19\n",
      "2016-03-17 22:36:03\n",
      "2016-03-17 22:22:33\n",
      "2016-03-17 22:15:34\n",
      "2016-03-17 22:15:27\n",
      "2016-03-17 21:33:11\n",
      "2016-03-17 21:20:10\n",
      "2016-03-17 21:20:05\n",
      "2016-03-17 20:40:53\n",
      "2016-03-17 20:40:31\n",
      "2016-03-17 20:40:30\n",
      "2016-03-17 20:10:11\n",
      "2016-03-17 20:09:59\n",
      "2016-03-17 20:06:29\n",
      "2016-03-17 20:04:51\n",
      "2016-03-17 20:04:42\n",
      "2016-03-17 20:04:11\n",
      "2016-03-17 20:04:05\n",
      "2016-03-17 20:03:50\n",
      "2016-03-17 20:03:45\n",
      "2016-03-17 20:03:37\n",
      "2016-03-17 20:03:30\n",
      "2016-03-17 20:02:25\n",
      "2016-03-17 19:01:08\n",
      "2016-03-17 19:00:09\n",
      "2016-03-17 19:00:03\n",
      "2016-03-17 18:59:54\n",
      "2016-03-17 18:59:21\n",
      "2016-03-17 18:59:21\n",
      "2016-03-17 18:59:16\n",
      "2016-03-17 18:59:11\n",
      "2016-03-17 18:59:08\n",
      "2016-03-17 18:58:43\n",
      "2016-03-17 18:54:07\n",
      "2016-03-17 18:53:53\n",
      "2016-03-17 18:48:15\n",
      "2016-03-17 18:23:46\n",
      "2016-03-17 18:23:08\n",
      "2016-03-17 18:22:57\n",
      "2016-03-17 18:22:50\n",
      "2016-03-17 18:21:53\n",
      "2016-03-17 18:21:51\n",
      "2016-03-17 18:20:32\n",
      "2016-03-17 17:18:43\n",
      "2016-03-17 16:37:00\n",
      "2016-03-17 16:36:50\n",
      "2016-03-17 16:36:42\n",
      "2016-03-17 16:32:53\n",
      "2016-03-17 16:27:15\n",
      "2016-03-17 16:27:12\n",
      "2016-03-17 16:26:42\n",
      "2016-03-17 16:26:01\n",
      "2016-03-17 16:25:56\n",
      "2016-03-17 16:25:54\n",
      "2016-03-17 16:25:50\n",
      "2016-03-17 16:25:44\n",
      "2016-03-17 16:25:38\n",
      "2016-03-17 16:25:31\n",
      "2016-03-17 16:25:31\n",
      "2016-03-17 16:25:29\n",
      "2016-03-17 16:25:24\n",
      "2016-03-17 16:25:21\n",
      "2016-03-17 16:25:13\n",
      "2016-03-17 16:25:00\n",
      "2016-03-17 15:57:26\n",
      "2016-03-17 15:57:21\n",
      "2016-03-17 15:56:26\n",
      "2016-03-17 15:49:05\n",
      "2016-03-17 15:47:33\n",
      "2016-03-17 15:47:19\n",
      "2016-03-17 15:47:06\n",
      "2016-03-17 15:46:57\n",
      "2016-03-17 15:46:49\n",
      "2016-03-17 15:32:51\n",
      "2016-03-17 15:32:38\n",
      "2016-03-17 15:30:12\n",
      "2016-03-17 15:07:03\n",
      "2016-03-17 15:06:53\n",
      "2016-03-17 15:06:46\n",
      "2016-03-17 15:06:36\n",
      "2016-03-17 15:06:31\n",
      "2016-03-17 15:06:18\n",
      "2016-03-17 15:06:15\n",
      "2016-03-17 15:06:13\n",
      "2016-03-17 14:53:48\n",
      "2016-03-17 14:50:41\n",
      "2016-03-17 14:50:34\n",
      "2016-03-17 14:50:28\n",
      "2016-03-17 14:50:22\n",
      "2016-03-17 14:50:10\n",
      "2016-03-17 14:49:58\n",
      "2016-03-17 14:49:44\n",
      "2016-03-17 14:18:16\n",
      "2016-03-17 14:13:34\n",
      "2016-03-17 14:12:50\n",
      "2016-03-17 14:12:32\n",
      "2016-03-17 14:12:28\n",
      "2016-03-17 14:09:17\n",
      "2016-03-17 14:09:10\n",
      "2016-03-17 14:08:46\n",
      "2016-03-17 14:01:26\n",
      "2016-03-17 13:59:54\n",
      "2016-03-17 13:58:43\n",
      "2016-03-17 13:58:23\n",
      "2016-03-17 13:57:24\n",
      "2016-03-17 13:56:17\n",
      "2016-03-17 13:56:05\n",
      "2016-03-17 13:55:58\n",
      "2016-03-17 13:55:53\n",
      "2016-03-17 13:55:46\n",
      "2016-03-17 13:55:31\n",
      "2016-03-17 13:55:15\n",
      "2016-03-17 13:54:31\n",
      "2016-03-17 13:54:01\n",
      "2016-03-17 13:53:28\n",
      "2016-03-17 12:49:31\n",
      "2016-03-17 12:48:56\n",
      "2016-03-17 04:30:00\n",
      "2016-03-17 02:09:05\n",
      "2016-03-16 15:19:00\n",
      "2016-03-16 14:27:17\n",
      "2016-03-16 13:51:19\n",
      "2016-03-16 12:35:40\n",
      "2016-03-16 12:35:11\n",
      "2016-03-16 05:36:52\n",
      "2016-03-16 05:29:17\n",
      "2016-03-16 05:11:27\n",
      "2016-03-16 05:01:20\n",
      "2016-03-16 04:55:35\n",
      "2016-03-16 04:54:37\n",
      "2016-03-16 01:17:38\n",
      "2016-03-15 17:08:35\n",
      "2016-03-15 16:36:27\n",
      "2016-03-15 16:28:00\n",
      "2016-03-15 16:18:16\n",
      "2016-03-15 16:08:46\n",
      "2016-03-15 16:07:00\n",
      "2016-03-15 16:02:27\n"
     ]
    }
   ],
   "source": [
    "for tweet in tweets:\n",
    "    print tweet.created_at"
   ]
  },
  {
   "cell_type": "markdown",
   "metadata": {},
   "source": [
    "Un dato que puede ser muy interesante es la geolocalización del tweet:"
   ]
  },
  {
   "cell_type": "code",
   "execution_count": 9,
   "metadata": {
    "collapsed": false,
    "scrolled": true
   },
   "outputs": [
    {
     "name": "stdout",
     "output_type": "stream",
     "text": [
      "None\n",
      "None\n",
      "None\n",
      "None\n",
      "None\n",
      "None\n",
      "None\n",
      "None\n",
      "None\n",
      "None\n",
      "None\n",
      "None\n",
      "None\n",
      "None\n",
      "None\n",
      "None\n",
      "None\n",
      "None\n",
      "None\n",
      "None\n",
      "None\n",
      "None\n",
      "None\n",
      "None\n",
      "None\n",
      "None\n",
      "None\n",
      "None\n",
      "None\n",
      "None\n",
      "None\n",
      "None\n",
      "None\n",
      "None\n",
      "None\n",
      "None\n",
      "None\n",
      "None\n",
      "None\n",
      "None\n",
      "None\n",
      "None\n",
      "None\n",
      "None\n",
      "None\n",
      "None\n",
      "None\n",
      "None\n",
      "None\n",
      "None\n",
      "None\n",
      "None\n",
      "None\n",
      "None\n",
      "None\n",
      "None\n",
      "None\n",
      "None\n",
      "None\n",
      "None\n",
      "None\n",
      "None\n",
      "None\n",
      "None\n",
      "None\n",
      "None\n",
      "None\n",
      "None\n",
      "None\n",
      "None\n",
      "None\n",
      "None\n",
      "None\n",
      "None\n",
      "None\n",
      "None\n",
      "None\n",
      "None\n",
      "None\n",
      "None\n",
      "None\n",
      "None\n",
      "None\n",
      "None\n",
      "None\n",
      "None\n",
      "None\n",
      "None\n",
      "None\n",
      "None\n",
      "None\n",
      "None\n",
      "None\n",
      "None\n",
      "None\n",
      "None\n",
      "None\n",
      "None\n",
      "None\n",
      "None\n",
      "None\n",
      "None\n",
      "None\n",
      "None\n",
      "None\n",
      "None\n",
      "None\n",
      "None\n",
      "None\n",
      "None\n",
      "None\n",
      "None\n",
      "None\n",
      "None\n",
      "None\n",
      "None\n",
      "None\n",
      "None\n",
      "None\n",
      "None\n",
      "None\n",
      "None\n",
      "None\n",
      "None\n",
      "None\n",
      "None\n",
      "None\n",
      "None\n",
      "None\n",
      "None\n",
      "None\n",
      "None\n",
      "None\n",
      "None\n",
      "None\n",
      "None\n",
      "None\n",
      "None\n",
      "None\n",
      "None\n",
      "None\n",
      "None\n",
      "None\n",
      "None\n",
      "None\n",
      "None\n",
      "None\n",
      "None\n",
      "None\n",
      "None\n",
      "None\n",
      "None\n",
      "None\n",
      "None\n",
      "None\n",
      "None\n",
      "None\n",
      "None\n",
      "None\n",
      "None\n",
      "None\n",
      "None\n",
      "None\n",
      "None\n",
      "None\n",
      "None\n",
      "None\n",
      "None\n",
      "None\n",
      "None\n",
      "None\n",
      "None\n",
      "None\n",
      "None\n",
      "None\n",
      "None\n",
      "None\n",
      "None\n",
      "None\n",
      "None\n",
      "None\n",
      "None\n",
      "None\n",
      "None\n",
      "None\n",
      "None\n",
      "None\n",
      "None\n",
      "None\n",
      "None\n",
      "None\n",
      "None\n",
      "None\n",
      "None\n",
      "None\n",
      "None\n",
      "None\n",
      "None\n",
      "None\n"
     ]
    }
   ],
   "source": [
    "for tweet in tweets:\n",
    "    print tweet.geo"
   ]
  },
  {
   "cell_type": "markdown",
   "metadata": {},
   "source": [
    "No en este caso u.u"
   ]
  },
  {
   "cell_type": "markdown",
   "metadata": {},
   "source": [
    "### Time series\n",
    "Los tweets son un fenomeno temporas, así que se pueden gráficar como una serie de tiempo. En éste caso la cantidad de caractéres con respecto al tiempo."
   ]
  },
  {
   "cell_type": "code",
   "execution_count": 10,
   "metadata": {
    "collapsed": false
   },
   "outputs": [
    {
     "data": {
      "text/plain": [
       "199"
      ]
     },
     "execution_count": 10,
     "metadata": {},
     "output_type": "execute_result"
    }
   ],
   "source": [
    "ts =  pd.Series([len(tweet.text) for tweet in tweets],index=[tweet.created_at for tweet in tweets])\n",
    "len(ts.index) # Cantidad de tweets capturados"
   ]
  },
  {
   "cell_type": "code",
   "execution_count": 11,
   "metadata": {
    "collapsed": false
   },
   "outputs": [
    {
     "data": {
      "text/plain": [
       "<matplotlib.axes._subplots.AxesSubplot at 0x105f28490>"
      ]
     },
     "execution_count": 11,
     "metadata": {},
     "output_type": "execute_result"
    },
    {
     "data": {
      "image/png": "[encoded data removed]",
      "text/plain": [
       "<matplotlib.figure.Figure at 0x102c10b90>"
      ]
     },
     "metadata": {},
     "output_type": "display_data"
    }
   ],
   "source": [
    "ts.plot(figsize=(16,8)) #area bar scatter"
   ]
  },
  {
   "cell_type": "markdown",
   "metadata": {},
   "source": [
    "## Análisis de sentimiento\n",
    "Para éste análisis usaremos el diccionario [SDAL](http://habla.dc.uba.ar/gravano/sdal.php?lang=esp) (Spanish Dictionary of Affect in Language) que puedes encontrar en formáto csv en mi repositorio en [github](https://github.com/abcsds/sdal). Puedes leer más sobre cómo se hizo éste diccionario y cómo usarlo en el reporte official: http://digital.bl.fcen.uba.ar/Download/TechnicalReport/TechnicalReport_00001.pdf "
   ]
  },
  {
   "cell_type": "code",
   "execution_count": 12,
   "metadata": {
    "collapsed": false
   },
   "outputs": [],
   "source": [
    "sdal = pd.read_csv('sdal.csv',sep=';') # https://raw.githubusercontent.com/abcsds/sdal/master/data/sdal.csv"
   ]
  },
  {
   "cell_type": "code",
   "execution_count": 13,
   "metadata": {
    "collapsed": false
   },
   "outputs": [
    {
     "data": {
      "text/html": [
       "<div>\n",
       "<table border=\"1\" class=\"dataframe\">\n",
       "  <thead>\n",
       "    <tr style=\"text-align: right;\">\n",
       "      <th></th>\n",
       "      <th>Word_O</th>\n",
       "      <th>Pleasantness</th>\n",
       "      <th>Activation</th>\n",
       "      <th>Imagery</th>\n",
       "      <th>Pleasantness_SD</th>\n",
       "      <th>Activation_SD</th>\n",
       "      <th>Imagery_SD</th>\n",
       "    </tr>\n",
       "  </thead>\n",
       "  <tbody>\n",
       "    <tr>\n",
       "      <th>0</th>\n",
       "      <td>población_N</td>\n",
       "      <td>1.8</td>\n",
       "      <td>2.0</td>\n",
       "      <td>2.6</td>\n",
       "      <td>0.4472</td>\n",
       "      <td>0.7071</td>\n",
       "      <td>0.5477</td>\n",
       "    </tr>\n",
       "    <tr>\n",
       "      <th>1</th>\n",
       "      <td>obra_N</td>\n",
       "      <td>2.2</td>\n",
       "      <td>2.4</td>\n",
       "      <td>2.4</td>\n",
       "      <td>0.4472</td>\n",
       "      <td>0.5477</td>\n",
       "      <td>0.8944</td>\n",
       "    </tr>\n",
       "    <tr>\n",
       "      <th>2</th>\n",
       "      <td>dormir_V</td>\n",
       "      <td>3.0</td>\n",
       "      <td>1.4</td>\n",
       "      <td>3.0</td>\n",
       "      <td>0.0000</td>\n",
       "      <td>0.8944</td>\n",
       "      <td>0.0000</td>\n",
       "    </tr>\n",
       "    <tr>\n",
       "      <th>3</th>\n",
       "      <td>dar_V</td>\n",
       "      <td>2.8</td>\n",
       "      <td>3.0</td>\n",
       "      <td>3.0</td>\n",
       "      <td>0.4472</td>\n",
       "      <td>0.0000</td>\n",
       "      <td>0.0000</td>\n",
       "    </tr>\n",
       "    <tr>\n",
       "      <th>4</th>\n",
       "      <td>realizar_V</td>\n",
       "      <td>2.6</td>\n",
       "      <td>3.0</td>\n",
       "      <td>2.8</td>\n",
       "      <td>0.5477</td>\n",
       "      <td>0.0000</td>\n",
       "      <td>0.4472</td>\n",
       "    </tr>\n",
       "  </tbody>\n",
       "</table>\n",
       "</div>"
      ],
      "text/plain": [
       "        Word_O  Pleasantness  Activation  Imagery  Pleasantness_SD  \\\n",
       "0  población_N           1.8         2.0      2.6           0.4472   \n",
       "1       obra_N           2.2         2.4      2.4           0.4472   \n",
       "2     dormir_V           3.0         1.4      3.0           0.0000   \n",
       "3        dar_V           2.8         3.0      3.0           0.4472   \n",
       "4   realizar_V           2.6         3.0      2.8           0.5477   \n",
       "\n",
       "   Activation_SD  Imagery_SD  \n",
       "0         0.7071      0.5477  \n",
       "1         0.5477      0.8944  \n",
       "2         0.8944      0.0000  \n",
       "3         0.0000      0.0000  \n",
       "4         0.0000      0.4472  "
      ]
     },
     "execution_count": 13,
     "metadata": {},
     "output_type": "execute_result"
    }
   ],
   "source": [
    "sdal.head()"
   ]
  },
  {
   "cell_type": "markdown",
   "metadata": {},
   "source": [
    "Para su uso práctico crearemos tres columnas nuevas: palabra, objeto e indice de agrado. El indice de agrado indica que tan agradable es cierta palabra. Ya que el valor de pleasantness está dado entre 1 y 3 se le da un offset al valor."
   ]
  },
  {
   "cell_type": "code",
   "execution_count": 14,
   "metadata": {
    "collapsed": false
   },
   "outputs": [],
   "source": [
    "sdal['Word'] = sdal['Word_O'].apply(lambda word: word.split('_')[0])\n",
    "sdal['Object'] = sdal['Word_O'].apply(lambda word: word.split('_')[1])\n",
    "sdal['Score'] = sdal['Pleasantness'].apply(lambda score: score-2)"
   ]
  },
  {
   "cell_type": "code",
   "execution_count": 15,
   "metadata": {
    "collapsed": false
   },
   "outputs": [
    {
     "data": {
      "text/html": [
       "<div>\n",
       "<table border=\"1\" class=\"dataframe\">\n",
       "  <thead>\n",
       "    <tr style=\"text-align: right;\">\n",
       "      <th></th>\n",
       "      <th>Word_O</th>\n",
       "      <th>Pleasantness</th>\n",
       "      <th>Activation</th>\n",
       "      <th>Imagery</th>\n",
       "      <th>Pleasantness_SD</th>\n",
       "      <th>Activation_SD</th>\n",
       "      <th>Imagery_SD</th>\n",
       "      <th>Word</th>\n",
       "      <th>Object</th>\n",
       "      <th>Score</th>\n",
       "    </tr>\n",
       "  </thead>\n",
       "  <tbody>\n",
       "    <tr>\n",
       "      <th>0</th>\n",
       "      <td>población_N</td>\n",
       "      <td>1.8</td>\n",
       "      <td>2.0</td>\n",
       "      <td>2.6</td>\n",
       "      <td>0.4472</td>\n",
       "      <td>0.7071</td>\n",
       "      <td>0.5477</td>\n",
       "      <td>población</td>\n",
       "      <td>N</td>\n",
       "      <td>-0.2</td>\n",
       "    </tr>\n",
       "    <tr>\n",
       "      <th>1</th>\n",
       "      <td>obra_N</td>\n",
       "      <td>2.2</td>\n",
       "      <td>2.4</td>\n",
       "      <td>2.4</td>\n",
       "      <td>0.4472</td>\n",
       "      <td>0.5477</td>\n",
       "      <td>0.8944</td>\n",
       "      <td>obra</td>\n",
       "      <td>N</td>\n",
       "      <td>0.2</td>\n",
       "    </tr>\n",
       "    <tr>\n",
       "      <th>2</th>\n",
       "      <td>dormir_V</td>\n",
       "      <td>3.0</td>\n",
       "      <td>1.4</td>\n",
       "      <td>3.0</td>\n",
       "      <td>0.0000</td>\n",
       "      <td>0.8944</td>\n",
       "      <td>0.0000</td>\n",
       "      <td>dormir</td>\n",
       "      <td>V</td>\n",
       "      <td>1.0</td>\n",
       "    </tr>\n",
       "    <tr>\n",
       "      <th>3</th>\n",
       "      <td>dar_V</td>\n",
       "      <td>2.8</td>\n",
       "      <td>3.0</td>\n",
       "      <td>3.0</td>\n",
       "      <td>0.4472</td>\n",
       "      <td>0.0000</td>\n",
       "      <td>0.0000</td>\n",
       "      <td>dar</td>\n",
       "      <td>V</td>\n",
       "      <td>0.8</td>\n",
       "    </tr>\n",
       "    <tr>\n",
       "      <th>4</th>\n",
       "      <td>realizar_V</td>\n",
       "      <td>2.6</td>\n",
       "      <td>3.0</td>\n",
       "      <td>2.8</td>\n",
       "      <td>0.5477</td>\n",
       "      <td>0.0000</td>\n",
       "      <td>0.4472</td>\n",
       "      <td>realizar</td>\n",
       "      <td>V</td>\n",
       "      <td>0.6</td>\n",
       "    </tr>\n",
       "  </tbody>\n",
       "</table>\n",
       "</div>"
      ],
      "text/plain": [
       "        Word_O  Pleasantness  Activation  Imagery  Pleasantness_SD  \\\n",
       "0  población_N           1.8         2.0      2.6           0.4472   \n",
       "1       obra_N           2.2         2.4      2.4           0.4472   \n",
       "2     dormir_V           3.0         1.4      3.0           0.0000   \n",
       "3        dar_V           2.8         3.0      3.0           0.4472   \n",
       "4   realizar_V           2.6         3.0      2.8           0.5477   \n",
       "\n",
       "   Activation_SD  Imagery_SD       Word Object  Score  \n",
       "0         0.7071      0.5477  población      N   -0.2  \n",
       "1         0.5477      0.8944       obra      N    0.2  \n",
       "2         0.8944      0.0000     dormir      V    1.0  \n",
       "3         0.0000      0.0000        dar      V    0.8  \n",
       "4         0.0000      0.4472   realizar      V    0.6  "
      ]
     },
     "execution_count": 15,
     "metadata": {},
     "output_type": "execute_result"
    }
   ],
   "source": [
    "sdal.head()"
   ]
  },
  {
   "cell_type": "markdown",
   "metadata": {},
   "source": [
    "Los únicos datos que usaremos el día de hoy serán la palabra y el score normalizado."
   ]
  },
  {
   "cell_type": "code",
   "execution_count": 16,
   "metadata": {
    "collapsed": false
   },
   "outputs": [
    {
     "data": {
      "text/html": [
       "<div>\n",
       "<table border=\"1\" class=\"dataframe\">\n",
       "  <thead>\n",
       "    <tr style=\"text-align: right;\">\n",
       "      <th></th>\n",
       "      <th>Word</th>\n",
       "      <th>Score</th>\n",
       "    </tr>\n",
       "  </thead>\n",
       "  <tbody>\n",
       "    <tr>\n",
       "      <th>0</th>\n",
       "      <td>población</td>\n",
       "      <td>-0.2</td>\n",
       "    </tr>\n",
       "    <tr>\n",
       "      <th>1</th>\n",
       "      <td>obra</td>\n",
       "      <td>0.2</td>\n",
       "    </tr>\n",
       "    <tr>\n",
       "      <th>2</th>\n",
       "      <td>dormir</td>\n",
       "      <td>1.0</td>\n",
       "    </tr>\n",
       "    <tr>\n",
       "      <th>3</th>\n",
       "      <td>dar</td>\n",
       "      <td>0.8</td>\n",
       "    </tr>\n",
       "    <tr>\n",
       "      <th>4</th>\n",
       "      <td>realizar</td>\n",
       "      <td>0.6</td>\n",
       "    </tr>\n",
       "  </tbody>\n",
       "</table>\n",
       "</div>"
      ],
      "text/plain": [
       "        Word  Score\n",
       "0  población   -0.2\n",
       "1       obra    0.2\n",
       "2     dormir    1.0\n",
       "3        dar    0.8\n",
       "4   realizar    0.6"
      ]
     },
     "execution_count": 16,
     "metadata": {},
     "output_type": "execute_result"
    }
   ],
   "source": [
    "dictDF = sdal[['Word','Score']]\n",
    "dictDF.head()"
   ]
  },
  {
   "cell_type": "markdown",
   "metadata": {},
   "source": [
    "Para el procesamiento de los tweets es necesario crear un diccionario de python de la siguiente forma:"
   ]
  },
  {
   "cell_type": "code",
   "execution_count": 17,
   "metadata": {
    "collapsed": false
   },
   "outputs": [],
   "source": [
    "dictionary = dictDF.set_index('Word')['Score'].to_dict()\n",
    "for word in dictionary.keys():\n",
    "    # print type(word),type(word.decode('utf-8')), word, dictionary[word]\n",
    "    pass\n"
   ]
  },
  {
   "cell_type": "markdown",
   "metadata": {},
   "source": [
    "#### **Importante**:\n",
    "Ya que python 2.7 no maneja unicode por default es necesario forzar las llaves de nuestro diccionario a unicode. Este paso es casi imperceptible pero muy importante."
   ]
  },
  {
   "cell_type": "code",
   "execution_count": 18,
   "metadata": {
    "collapsed": false
   },
   "outputs": [],
   "source": [
    "unicodeDictionary = {}\n",
    "for word in dictionary.keys():\n",
    "    try:\n",
    "        unicodeDictionary[word.decode('utf-8')] = dictionary[word]\n",
    "    except UnicodeDecodeError:\n",
    "        print 'Word lost:', word\n",
    "dictionary = unicodeDictionary"
   ]
  },
  {
   "cell_type": "markdown",
   "metadata": {},
   "source": [
    "Aquí se muestra el análisis de cada tweet:"
   ]
  },
  {
   "cell_type": "code",
   "execution_count": 19,
   "metadata": {
    "collapsed": false
   },
   "outputs": [],
   "source": [
    "sentiments = pd.DataFrame(columns=('Time', 'Score'))\n",
    "\n",
    "for tweet in tweets:\n",
    "    score = 0\n",
    "    line = tweet.text.replace('.','').replace(',','').replace(';','').replace(':','').replace('\\t',' ').replace('\\n',' ')\n",
    "    words = line.split(' ')\n",
    "    for word in words:\n",
    "        if word in dictionary.keys():\n",
    "            score += dictionary[word]\n",
    "    row = pd.Series([tweet.created_at, score], index=['Time', 'Score'])\n",
    "    sentiments = sentiments.append(row, ignore_index=True)\n",
    "    # print tweet.text, tweet.created_at, score"
   ]
  },
  {
   "cell_type": "code",
   "execution_count": 20,
   "metadata": {
    "collapsed": false
   },
   "outputs": [
    {
     "data": {
      "text/html": [
       "<div>\n",
       "<table border=\"1\" class=\"dataframe\">\n",
       "  <thead>\n",
       "    <tr style=\"text-align: right;\">\n",
       "      <th></th>\n",
       "      <th>Time</th>\n",
       "      <th>Score</th>\n",
       "    </tr>\n",
       "  </thead>\n",
       "  <tbody>\n",
       "    <tr>\n",
       "      <th>0</th>\n",
       "      <td>2016-03-22 22:48:04</td>\n",
       "      <td>0.6</td>\n",
       "    </tr>\n",
       "    <tr>\n",
       "      <th>1</th>\n",
       "      <td>2016-03-22 22:47:30</td>\n",
       "      <td>0.0</td>\n",
       "    </tr>\n",
       "    <tr>\n",
       "      <th>2</th>\n",
       "      <td>2016-03-22 19:28:59</td>\n",
       "      <td>3.2</td>\n",
       "    </tr>\n",
       "    <tr>\n",
       "      <th>3</th>\n",
       "      <td>2016-03-22 13:52:12</td>\n",
       "      <td>0.6</td>\n",
       "    </tr>\n",
       "    <tr>\n",
       "      <th>4</th>\n",
       "      <td>2016-03-22 13:46:30</td>\n",
       "      <td>0.0</td>\n",
       "    </tr>\n",
       "  </tbody>\n",
       "</table>\n",
       "</div>"
      ],
      "text/plain": [
       "                 Time  Score\n",
       "0 2016-03-22 22:48:04    0.6\n",
       "1 2016-03-22 22:47:30    0.0\n",
       "2 2016-03-22 19:28:59    3.2\n",
       "3 2016-03-22 13:52:12    0.6\n",
       "4 2016-03-22 13:46:30    0.0"
      ]
     },
     "execution_count": 20,
     "metadata": {},
     "output_type": "execute_result"
    }
   ],
   "source": [
    "sentiments.head()"
   ]
  },
  {
   "cell_type": "code",
   "execution_count": 21,
   "metadata": {
    "collapsed": false
   },
   "outputs": [
    {
     "data": {
      "text/plain": [
       "<matplotlib.axes._subplots.AxesSubplot at 0x105f28390>"
      ]
     },
     "execution_count": 21,
     "metadata": {},
     "output_type": "execute_result"
    },
    {
     "data": {
      "image/png": "[encoded data removed]",
      "text/plain": [
       "<matplotlib.figure.Figure at 0x1060838d0>"
      ]
     },
     "metadata": {},
     "output_type": "display_data"
    }
   ],
   "source": [
    "ts =  pd.Series(sentiments['Score']) # ,index=sentiments['Time'])\n",
    "ts.plot(figsize=(16,8)) #area bar scatter"
   ]
  }
 ],
 "metadata": {
  "kernelspec": {
   "display_name": "Python 2",
   "language": "python",
   "name": "python2"
  },
  "language_info": {
   "codemirror_mode": {
    "name": "ipython",
    "version": 2
   },
   "file_extension": ".py",
   "mimetype": "text/x-python",
   "name": "python",
   "nbconvert_exporter": "python",
   "pygments_lexer": "ipython2",
   "version": "2.7.10"
  }
 },
 "nbformat": 4,
 "nbformat_minor": 0
}
